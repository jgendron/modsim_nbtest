{
 "cells": [
  {
   "cell_type": "code",
   "execution_count": 1,
   "metadata": {},
   "outputs": [],
   "source": [
    "import requests\n",
    "r = requests.get('http://modsimworld.org/conference-papers/2018')"
   ]
  },
  {
   "cell_type": "code",
   "execution_count": 2,
   "metadata": {},
   "outputs": [],
   "source": [
    "#print(r.text)"
   ]
  },
  {
   "cell_type": "code",
   "execution_count": 3,
   "metadata": {},
   "outputs": [],
   "source": [
    "from bs4 import BeautifulSoup \n",
    "soup = BeautifulSoup(r.text, 'html.parser')"
   ]
  },
  {
   "cell_type": "code",
   "execution_count": 4,
   "metadata": {},
   "outputs": [],
   "source": [
    "results = soup.find_all('table')"
   ]
  },
  {
   "cell_type": "code",
   "execution_count": 5,
   "metadata": {},
   "outputs": [
    {
     "data": {
      "text/plain": [
       "4"
      ]
     },
     "execution_count": 5,
     "metadata": {},
     "output_type": "execute_result"
    }
   ],
   "source": [
    "len(results)"
   ]
  },
  {
   "cell_type": "code",
   "execution_count": 6,
   "metadata": {},
   "outputs": [],
   "source": [
    "AT = results[0]"
   ]
  },
  {
   "cell_type": "code",
   "execution_count": 7,
   "metadata": {},
   "outputs": [
    {
     "name": "stdout",
     "output_type": "stream",
     "text": [
      "Shifting Data Collection from a Fixed to an Adaptive Sampling Paradigm\n",
      "The Last Mile in Analytics and Decision Making\n",
      "A Sustainability Assessment Model for Crop Rotation Alternative\n",
      "Visualization and Pre-Processing of Intensive Care Unit Data Using Python Data Science Tools\n",
      "Hospitality, Big Data, and Restaurateurs: Does Simulation have a Seat at the Table?\n",
      "A Genetic Model for the Evolution of Complex Technologies and its Application to Economic Development\n",
      "Rapid Analysis of Simulation Outputs for Use in Emergency Preparedness in Animal Disease Outbreaks\n",
      "Simulation-Based Evaluation of Medical Workstations Designed for Human Space Exploration\n",
      "Simulation-Based Leadership Decision Support Simulator for Countering Weapons of Mass Destruction\n",
      "The Application of Data Farming and Warhaming to Coalition Decision-Making\n",
      "The VCS C-Seam Analytics Platform: A Monte Carlo Approach to Machine Learning\n",
      "The Acquisition System is Broken - But Not for the Reasons You Think\n"
     ]
    }
   ],
   "source": [
    "#Extract Track \n",
    "for r in AT.findAll('tr'):\n",
    "    if r.find('span') is not None:\n",
    "        print(r.find('span').text)"
   ]
  },
  {
   "cell_type": "code",
   "execution_count": 8,
   "metadata": {},
   "outputs": [
    {
     "data": {
      "text/plain": [
       "'Shifting Data Collection from a Fixed to an Adaptive Sampling Paradigm'"
      ]
     },
     "execution_count": 8,
     "metadata": {},
     "output_type": "execute_result"
    }
   ],
   "source": [
    "#Extract Title \n",
    "AT.find('span').text"
   ]
  },
  {
   "cell_type": "code",
   "execution_count": 9,
   "metadata": {},
   "outputs": [
    {
     "data": {
      "text/plain": [
       "'Dr. Erik Axdahl'"
      ]
     },
     "execution_count": 9,
     "metadata": {},
     "output_type": "execute_result"
    }
   ],
   "source": [
    "#Extract Author \n",
    "AT.find('td').text"
   ]
  },
  {
   "cell_type": "code",
   "execution_count": 10,
   "metadata": {},
   "outputs": [
    {
     "data": {
      "text/plain": [
       "'/papers/2018/MODSIM_2018_Axdahl.pdf'"
      ]
     },
     "execution_count": 10,
     "metadata": {},
     "output_type": "execute_result"
    }
   ],
   "source": [
    "#Extract Filename \n",
    "AT.find('a')['href']"
   ]
  },
  {
   "cell_type": "code",
   "execution_count": 11,
   "metadata": {},
   "outputs": [
    {
     "data": {
      "text/plain": [
       "'2018'"
      ]
     },
     "execution_count": 11,
     "metadata": {},
     "output_type": "execute_result"
    }
   ],
   "source": [
    "#Extract Year \n",
    "AT.find('a')['href'][8:12]"
   ]
  },
  {
   "cell_type": "code",
   "execution_count": 13,
   "metadata": {},
   "outputs": [
    {
     "name": "stdout",
     "output_type": "stream",
     "text": [
      "Analytics and Decision-Making\n",
      "/papers/2018/MODSIM_2018_Axdahl.pdf\n",
      "Dr. Erik Axdahl\n",
      "Shifting Data Collection from a Fixed to an Adaptive Sampling Paradigm\n",
      "2018\n",
      "\n",
      "\n",
      "Analytics and Decision-Making\n",
      "/papers/2018/MODSIM_2018_McCrindle.pdf\n",
      "Mr. Jeff McCrindle\n",
      "The Last Mile in Analytics and Decision Making\n",
      "2018\n",
      "\n",
      "\n",
      "Analytics and Decision-Making\n",
      "/papers/2018/MODSIM_2018_Nisperos.pdf\n",
      "Ms. Saturnina Nisperos and Dr. Frederic McKenzie\n",
      "A Sustainability Assessment Model for Crop Rotation Alternative\n",
      "2018\n",
      "\n",
      "\n",
      "Analytics and Decision-Making\n",
      "/papers/2018/MODSIM_2018_Barhak.pdf\n",
      "Dr. Jacob Barhak\n",
      "Visualization and Pre-Processing of Intensive Care Unit Data Using Python Data Science Tools\n",
      "2018\n",
      "\n",
      "\n",
      "Analytics and Decision-Making\n",
      "/papers/2018/MODSIM_2018_Gendron_Weisel.pdf\n",
      "Mr. Jay Gendron, Ms. Bailey Gendron, and Dr. Eric Weisel\n",
      "Hospitality, Big Data, and Restaurateurs: Does Simulation have a Seat at the Table?\n",
      "2018\n",
      "\n",
      "\n",
      "Analytics and Decision-Making\n",
      "/papers/2018/MODSIM_2018_Tavel_Markovits.pdf\n",
      "Dr Morton Tavel and Mr. Devin Markovitz\n",
      "A Genetic Model for the Evolution of Complex Technologies and its Application to Economic Development\n",
      "2018\n",
      "\n",
      "\n",
      "Analytics and Decision-Making\n",
      "/papers/2018/MODSIM_2018_Schoenbaum_et_all.pdf\n",
      "Ms. Melissa Schoenbaum, Ms. Lindsey Holmstrom, Dr. Karla Moreno-Torres, Dr. Shankar Yadav, Dr. Jonathan Arzt, Dr. Carolina Stenfeldt\n",
      "Rapid Analysis of Simulation Outputs for Use in Emergency Preparedness in Animal Disease Outbreaks\n",
      "2018\n",
      "\n",
      "\n",
      "Analytics and Decision-Making\n",
      "/papers/2018/MODSIM_2018_ODU_Capstone.pdf\n",
      "Mr. Jacob Richardson, Mr. Brian Dilinila, Mr. Thomas Tracey, Mr. Minh Dong, Mr. John Paul Asija, Mr. michael Poteat, Mr. Jake Webster\n",
      "Simulation-Based Evaluation of Medical Workstations Designed for Human Space Exploration\n",
      "2018\n",
      "\n",
      "\n",
      "Analytics and Decision-Making\n",
      "/papers/2018/MODSIM_2018_Barber_Harris_Dunne_Goodwin_Reinerman.pdf\n",
      "Dr. Daniel Barber, Mr. Scott Harris, Dr. Robb Dunne, Dr. Martin Goodwin, Dr. Lauren Reinerman, and Dr. Irwin Hudson\n",
      "Simulation-Based Leadership Decision Support Simulator for Countering Weapons of Mass Destruction\n",
      "2018\n",
      "\n",
      "\n",
      "Analytics and Decision-Making\n",
      "/papers/2018/MODSIM_2018_Horne_Stilwell.pdf\n",
      "Dr. Gary Horne and Dr. Wayne Stilwell\n",
      "The Application of Data Farming and Warhaming to Coalition Decision-Making\n",
      "2018\n",
      "\n",
      "\n",
      "Analytics and Decision-Making\n",
      "/papers/2018/MODSIM_2018_Turscak.pdf\n",
      "Mr. Andrew Turscak\n",
      "The VCS C-Seam Analytics Platform: A Monte Carlo Approach to Machine Learning\n",
      "2018\n",
      "\n",
      "\n",
      "Analytics and Decision-Making\n",
      "/papers/2018/MODSIM_2018_Surdu_Velazquez.pdf\n",
      "Dr. John Surdu and Ms. Luis Velazquez\n",
      "The Acquisition System is Broken - But Not for the Reasons You Think\n",
      "2018\n",
      "\n",
      "\n",
      "Science and Engineering\n",
      "/papers/2018/MODSIM_2018_Paper_not_required_for_a_5.pdf\n",
      "Ms. Elizabeth Gregory, Ms. Cara Lekcey, Mr. William Schneck, Mr. Paul Swindell\n",
      "A Versatile Simulation Framework for Elastodynamic Modeling of Structural Health Monitoring\n",
      "2018\n",
      "\n",
      "\n",
      "Science and Engineering\n",
      "/papers/2018/MODSIM_2018_Paper_not_required_for_a_10.pdf\n",
      "Dr. Elaine Seasly and Mr. Walter Wrigglesworth\n",
      "Preventing Premature Death in the M&S Lifecycle: Lessons Learned from Resurrection and Modernization of a Space System Contamination Model\n",
      "2018\n",
      "\n",
      "\n",
      "Science and Engineering\n",
      "/papers/2018/MODSIM_2018_Paper_not_required_for_a_14.pdf\n",
      "Mr. Ronald Daiker, Dr. Kyle Ellis, and Dr. Santosh Mathan\n",
      "Use of Real-Time, Predictive Human Modeling for Spatial Disorientation Detection and Mitigation\n",
      "2018\n",
      "\n",
      "\n",
      "Science and Engineering\n",
      "/papers/2018/MODSIM_2018_Paper_not_required_for_a_19.pdf\n",
      "Dr. Todd Griffith, Mr. Jason Potts, Mr Colin Puskaritz, and Dr. Byron Harder\n",
      "A Multi-level Universal Specification ofr Intelligent Characters (MUSIC)\n",
      "2018\n",
      "\n",
      "\n",
      "Science and Engineering\n",
      "/papers/2018/MODSIM_2018_Paper_not_required_for_a_26.pdf\n",
      "Mr. Mauricio Aureliano, Mr. Reidner Cavalcante, Mr. Gabriel Cyrino, Mr. Alexandre Cardoso, and Mr. Edgard Lamounier\n",
      "IoT Applied to the Control and Monitoring in Substations\n",
      "2018\n",
      "\n",
      "\n",
      "Science and Engineering\n",
      "/papers/2018/MODSIM_2018_Paper_not_required_for_a_35.pdf\n",
      "Mr. Dennis Watson and Dr. Linda Vahala\n",
      "Modeling of the Ionosphere Reveals Wide Bandwidth Available for a Virtual SATCOM Communication System\n",
      "2018\n",
      "\n",
      "\n",
      "Science and Engineering\n",
      "/papers/2018/MODSIM_2018_Paper_not_required_for_a_36.pdf\n",
      "Mr. Jordan Dauble, Ms. Ashley Medford, and Dr. James Frey\n",
      "Leveraging Commercial Game Engine for Multi-Domain Image Generation\n",
      "2018\n",
      "\n",
      "\n",
      "Science and Engineering\n",
      "/papers/2018/MODSIM_2018_Paper_not_required_for_a_52.pdf\n",
      "Mr. Nicholas Kaimakis, Mr. Samuel Breck, Dr. Benjamin Nye, and Mr. Dan Davis\n",
      "Domain-Specific Reduction of Language Model Databases: Overcoming Chatbot Implementation Obstacles\n",
      "2018\n",
      "\n",
      "\n",
      "Science and Engineering\n",
      "/papers/2018/MODSIM_2018_Paper_not_required_for_a_55.pdf\n",
      "Mr. Taylor Franklin, Mr. Justin Crowe, My Ian Hobson, Mr. John Winn, Mr. John Zimmerman, Dr. Yiannis Papelis, and Dr. Miltos Kotinis\n",
      "Simulation Based Optimization of a Propulsion System for an Unmanned Surface Vessel\n",
      "2018\n",
      "\n",
      "\n",
      "Science and Engineering\n",
      "/papers/2018/MODSIM_2018_Paper_not_required_for_a_56.pdf\n",
      "Mr. Daniel Burns, Mr. Dan Davis, and Mr. Julianne Nordhagen\n",
      "Systems Engineering: Optimizing Creation of Virtual Conversational Human Agents\n",
      "2018\n",
      "\n",
      "\n",
      "Training and Education\n",
      "/papers/2018/MODSIM_2018_Paper_not_required_for_a_7.pdf\n",
      "Dr. Benjamin Bell, Ms. Debbie Brown, and Dr. Ewald Enzinger\n",
      "A \"Stories-as-aService\" Architecture for Enriching Training Simulations\n",
      "2018\n",
      "\n",
      "\n",
      "Training and Education\n",
      "/papers/2018/MODSIM_2018_Paper_not_required_for_a_15.pdf\n",
      "Dr. Ronald Freeman\n",
      "Existential correlation of system complexity and task complexity: Lessons learn from problem solving F-1 combustion instability\n",
      "2018\n",
      "\n",
      "\n",
      "Training and Education\n",
      "/papers/2018/MODSIM_2018_Paper_not_required_for_a_17.pdf\n",
      "Mr. Andrew Wismer, Dr. Lauren Reinerman-Jones, Dr. Grace Teo, Ms. Sasha Willis, Ms. Kelsey McCracken, and Mr. Matthew Hacket\n",
      "Assessing Performance and Usability of 3D Visualization Technologies for Anatomical Training\n",
      "2018\n",
      "\n",
      "\n",
      "Training and Education\n",
      "/papers/2018/MODSIM_2018_Paper_not_required_for_a_18.pdf\n",
      "Mr. Colin Puskaritz, Dr. Todd Griffith, Mr. Jason Potts, Mr David Knox, and Mr. Anthony Cross\n",
      "Enhancing Trainee Immersion with Goal_Directed, Reactive Populations, and Realistic Surroundings\n",
      "2018\n",
      "\n",
      "\n",
      "Training and Education\n",
      "/papers/2018/MODSIM_2018_Paper_not_required_for_a_22.pdf\n",
      "Ms. Lisa Babcock, Dr. Denise Stevens, and Dr. Julia Carpenter\n",
      "Ready, Aim, Perform! Targeted Micro-Training for Performance Intervention\n",
      "2018\n",
      "\n",
      "\n",
      "Training and Education\n",
      "/papers/2018/MODSIM_2018_Paper_not_required_for_a_23.pdf\n",
      "Ms. Ashley Reardon, Dr. Julian Abich, Dr. Jennifer Murphy, and Mr. Frank Hannigan\n",
      "Evolution of Green Pig: Best Practices in Mobile App Design\n",
      "2018\n",
      "\n",
      "\n",
      "Training and Education\n",
      "/papers/2018/MODSIM_2018_Paper_not_required_for_a_24.pdf\n",
      "Dr. Robb Dunne, Mr. Scott Harris, Dr. Lauren Reinerman, Mr. Nathan Jones, and Mr. Alexander Arrieta\n",
      "Validating Simulators for Live, Virtual, Constructive Exercises: A Methodology\n",
      "2018\n",
      "\n",
      "\n",
      "Training and Education\n",
      "/papers/2018/MODSIM_2018_Paper_not_required_for_a_29.pdf\n",
      "Dr. Mia Joe\n",
      "The challenge of designing instructionally sound virtual reality-based training\n",
      "2018\n",
      "\n",
      "\n",
      "Training and Education\n",
      "/papers/2018/MODSIM_2018_Paper_not_required_for_a_43.pdf\n",
      "Dr. Martin Goodwin, Dr. Lauren Reinerman-Jones, Mr. Scott Harris, and Mr. Alexander Arrieta\n",
      "A taxonomy for the Evaluation of Training Simulations and Environments\n",
      "2018\n",
      "\n",
      "\n",
      "Training and Education\n",
      "/papers/2018/MODSIM_2018_Paper_not_required_for_a_44.pdf\n",
      "Mr. Christopher Dupre, Ms. Alesya Paschal, and Mr. Steve Miskinis\n",
      "Training for Operations in a Contested Space Domain\n",
      "2018\n",
      "\n",
      "\n",
      "Training and Education\n",
      "/papers/2018/MODSIM_2018_Paper_not_required_for_a_50.pdf\n",
      "Mr. Dan Davis, Mr. Nicholas Kaimakis, and Mr. Howard Spaulding\n",
      "Critical Thinking Training: Proven New Technologies for Engaging DoD Personnel\n",
      "2018\n",
      "\n",
      "\n",
      "Training and Education\n",
      "/papers/2018/MODSIM_2018_Paper_not_required_for_a_65.pdf\n",
      "Dr. Jennifer Klafehn, Dr. Patricia Inglese, Dr. Mike Treanor, and Dr. Joshua McCoy\n",
      "Walking a Mile in Simulated Shoes: Development of an Assessment of Perspective Taking\n",
      "2018\n",
      "\n",
      "\n",
      "Training and Education\n",
      "/papers/2018/MODSIM_2018_Paper_not_required_for_a_66.pdf\n",
      "Mr. Zachary Kiehl, Ms. Tatiana Toumbeva, Dr. Tara Brown, Mr. Sterling Wiggins, and Dr. Douglas Maxwell\n",
      "An Immersive Approach to Providing Mishap Awareness Scenario Training for Ensuring Readiness (MASTER)\n",
      "2018\n",
      "\n",
      "\n",
      "Visualization and Gamification\n",
      "/papers/2018/MODSIM_2018_Paper_not_required_for_a_2.pdf\n",
      "Mr. Peter Swan\n",
      "Visualizaing and Simulating on Whole World Terrains\n",
      "2018\n",
      "\n",
      "\n",
      "Visualization and Gamification\n",
      "/papers/2018/MODSIM_2018_Paper_not_required_for_a_28.pdf\n",
      "Dr. Douglas Maxwell, Mr. Evan Oster, and Mr. Spencer Lynch\n",
      "Evaluating the Applicability of Repurposed Entertainment Virtual Reality Devices for Military Training\n",
      "2018\n",
      "\n",
      "\n",
      "Visualization and Gamification\n",
      "/papers/2018/MODSIM_2018_Paper_not_required_for_a_30.pdf\n",
      "Dr. Matthew Hackett\n",
      "Technology Acceptance of a Virtual Tactical Combat Casualty Care Simulation\n",
      "2018\n",
      "\n",
      "\n",
      "Visualization and Gamification\n",
      "/papers/2018/MODSIM_2018_Paper_not_required_for_a_31.pdf\n",
      "Dr. James Leathrum, Dr. Yuzhong Shen, Dr. Roland Mielke, and Mr. Nathan Gonda\n",
      "Integrating Virtual and Augmented Reality Based Testing into the Development of Autonomous Vehicles\n",
      "2018\n",
      "\n",
      "\n",
      "Visualization and Gamification\n",
      "/papers/2018/MODSIM_2018_Paper_not_required_for_a_48.pdf\n",
      "Mr. Arthur Bucioli, Dr. Edgard Lamounier, Dr. Gerson Lima, and Mr. Alexandre Cardoso\n",
      "Automated Generation of Holographic Heart Visualization from Coronary Tomography for Multi-place Medical Diagnostics using Holographic devices\n",
      "2018\n",
      "\n",
      "\n",
      "Visualization and Gamification\n",
      "/papers/2018/MODSIM_2018_Paper_not_required_for_a_53.pdf\n",
      "Mr. Chaithanya Renduchintala, Mr. Hari Ramasamy, and Dr. Waldemar Karwowski\n",
      "Child-Centric Interactive Exercise Devices (CCIED) and System for COnductive Education Therapy\n",
      "2018\n",
      "\n",
      "\n",
      "Visualization and Gamification\n",
      "/papers/2018/MODSIM_2018_Paper_not_required_for_a_59.pdf\n",
      "Mr. Thomas Tracey, Mr. Brian Dilinila, Dr. James Leathrum, and Dr. Roland Mielke\n",
      "Visualization of the Process Interaction Worldview in Discrete Event Simulation\n",
      "2018\n",
      "\n",
      "\n",
      "Visualization and Gamification\n",
      "/papers/2018/MODSIM_2018_Paper_not_required_for_a_63.pdf\n",
      "Dr. Stephanie Lackey, Dr. Julie Salcedo, and Ms. Julie Kent\n",
      "Graphical Representations Provide Insight into Life Cycle Planning Through Data Analytics\n",
      "2018\n",
      "\n",
      "\n"
     ]
    }
   ],
   "source": [
    "for result in results:\n",
    "    for r in result.findAll('tr'):\n",
    "        if r.find('td') is not None:\n",
    "            print(result.find('th').text)\n",
    "            print(r.find('a')['href'])\n",
    "            print(r.find('td').text)\n",
    "            print(r.find('span').text)\n",
    "            print(r.find('a')['href'][8:12])\n",
    "            print('\\n')"
   ]
  },
  {
   "cell_type": "code",
   "execution_count": null,
   "metadata": {},
   "outputs": [],
   "source": [
    "Records = [] \n",
    "for result in results: \n",
    "    Track = result.find('th').text\n",
    "    Filename = result.find('a')['href']\n",
    "    Author = result.find('td').text\n",
    "    Title = result.find('span').text \n",
    "    Year = result.find('a')['href'][8:12]\n",
    "    Records.append((Track, Filename, Author, Title, Year))\n",
    "    \n",
    "   \n"
   ]
  },
  {
   "cell_type": "code",
   "execution_count": null,
   "metadata": {},
   "outputs": [],
   "source": [
    "len(Records)"
   ]
  },
  {
   "cell_type": "code",
   "execution_count": null,
   "metadata": {},
   "outputs": [],
   "source": [
    "Records"
   ]
  },
  {
   "cell_type": "code",
   "execution_count": null,
   "metadata": {},
   "outputs": [],
   "source": []
  }
 ],
 "metadata": {
  "kernelspec": {
   "display_name": "Python 3",
   "language": "python",
   "name": "python3"
  },
  "language_info": {
   "codemirror_mode": {
    "name": "ipython",
    "version": 3
   },
   "file_extension": ".py",
   "mimetype": "text/x-python",
   "name": "python",
   "nbconvert_exporter": "python",
   "pygments_lexer": "ipython3",
   "version": "3.6.6"
  }
 },
 "nbformat": 4,
 "nbformat_minor": 2
}
